{
 "cells": [
  {
   "cell_type": "code",
   "execution_count": 1,
   "metadata": {},
   "outputs": [],
   "source": [
    "import pandas as pd\n",
    "import numpy as np\n",
    "import seaborn as sns\n",
    "import matplotlib.pyplot as plt\n",
    "import warnings\n",
    "import os\n",
    "import shutil\n",
    "warnings.filterwarnings(\"ignore\")"
   ]
  },
  {
   "cell_type": "markdown",
   "metadata": {},
   "source": [
    "Dados do dataset estavam em arquivos .CSV separados, na célula abaixo foi feito um script para junta-los.\n"
   ]
  },
  {
   "cell_type": "markdown",
   "metadata": {},
   "source": [
    "Caso você não encontre o arquivo .CSV \"dadostotais.csv\", rode o script abaixo"
   ]
  },
  {
   "cell_type": "code",
   "execution_count": 2,
   "metadata": {},
   "outputs": [
    {
     "data": {
      "text/plain": [
       "'dataset\\\\arquivo_ordenado.xlsx'"
      ]
     },
     "execution_count": 2,
     "metadata": {},
     "output_type": "execute_result"
    }
   ],
   "source": [
    "\n",
    "PASTA_DADOS_SEP = 'dataset/src-files'\n",
    "PASTA = 'dataset'\n",
    "\n",
    "# Lista para armazenar os DataFrames dos arquivos CSV\n",
    "dataframes = []\n",
    "\n",
    "# Itera sobre os arquivos na pasta 'dataset/src-files' e lê cada arquivo CSV\n",
    "for arquivo in os.listdir(PASTA_DADOS_SEP):\n",
    "    if arquivo.endswith('.csv'):\n",
    "        caminho_arquivo = os.path.join(PASTA_DADOS_SEP, arquivo)\n",
    "        df = pd.read_csv(caminho_arquivo, encoding='iso-8859-1', delimiter=';')\n",
    "        dataframes.append(df)\n",
    "\n",
    "# Combina todos os DataFrames em um único DataFrame\n",
    "dados_completos = pd.concat(dataframes, ignore_index=True)\n",
    "\n",
    "# Ordena o DataFrame com base na coluna 'data' em ordem crescente\n",
    "df_ordenado = dados_completos.sort_values(by='data', ascending=True)\n",
    "df_ordenado = df_ordenado.fillna('')\n",
    "\n",
    "# Salva o DataFrame ordenado em um arquivo Excel (xlsx) chamado 'arquivo_ordenado.xlsx'\n",
    "nome_arquivo_ordenado = 'arquivo_ordenado.xlsx'\n",
    "caminho_arquivo_ordenado = os.path.join(os.getcwd(), nome_arquivo_ordenado)\n",
    "df_ordenado.to_excel(caminho_arquivo_ordenado, index=False, engine='openpyxl')\n",
    "\n",
    "# Especifique o caminho da pasta de destino (dataset) para onde você deseja mover o arquivo ordenado\n",
    "\n",
    "# Use a função shutil.move para mover o arquivo ordenado para a pasta de destino (dataset)\n",
    "shutil.move(caminho_arquivo_ordenado, os.path.join(PASTA, nome_arquivo_ordenado))\n"
   ]
  }
 ],
 "metadata": {
  "kernelspec": {
   "display_name": "Python 3",
   "language": "python",
   "name": "python3"
  },
  "language_info": {
   "codemirror_mode": {
    "name": "ipython",
    "version": 3
   },
   "file_extension": ".py",
   "mimetype": "text/x-python",
   "name": "python",
   "nbconvert_exporter": "python",
   "pygments_lexer": "ipython3",
   "version": "3.11.5"
  },
  "orig_nbformat": 4
 },
 "nbformat": 4,
 "nbformat_minor": 2
}
