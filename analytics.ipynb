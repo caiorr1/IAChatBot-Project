{
 "cells": [
  {
   "cell_type": "code",
   "execution_count": 17,
   "metadata": {},
   "outputs": [],
   "source": [
    "import pandas as pd\n",
    "import numpy as np\n",
    "import seaborn as sns\n",
    "import matplotlib.pyplot as plt\n",
    "import warnings\n",
    "import os\n",
    "warnings.filterwarnings(\"ignore\")"
   ]
  },
  {
   "cell_type": "markdown",
   "metadata": {},
   "source": [
    "Dados do dataset estavam em arquivos .CSV separados, na célula abaixo foi feito um script para junta-los.\n"
   ]
  },
  {
   "cell_type": "markdown",
   "metadata": {},
   "source": [
    "Caso você não encontre o arquivo .CSV \"dadostotais.csv\", rode o script abaixo"
   ]
  },
  {
   "cell_type": "code",
   "execution_count": null,
   "metadata": {},
   "outputs": [],
   "source": [
    "PASTA = 'dataset\\src-files'\n",
    "\n",
    "dataframes = []\n",
    "\n",
    "for dirname, _, filenames in os.walk(PASTA):\n",
    "    for filename in filenames:\n",
    "        print(os.path.join(dirname, filename))\n",
    "        \n",
    "for arquivo in os.listdir(PASTA):\n",
    "    if arquivo.endswith('.csv'):\n",
    "        # Lê cada arquivo CSV em um DataFrame\n",
    "        caminho_arquivo = os.path.join(PASTA, arquivo)\n",
    "        df = pd.read_csv(caminho_arquivo, encoding='iso-8859-1', delimiter=';')\n",
    "        dataframes.append(df)\n",
    "\n",
    "dados_completos = pd.concat(dataframes, ignore_index=True)\n",
    "dados_completos.to_csv('arquivo_combinado.csv', index=False)"
   ]
  },
  {
   "cell_type": "code",
   "execution_count": null,
   "metadata": {},
   "outputs": [],
   "source": []
  }
 ],
 "metadata": {
  "kernelspec": {
   "display_name": "Python 3",
   "language": "python",
   "name": "python3"
  },
  "language_info": {
   "codemirror_mode": {
    "name": "ipython",
    "version": 3
   },
   "file_extension": ".py",
   "mimetype": "text/x-python",
   "name": "python",
   "nbconvert_exporter": "python",
   "pygments_lexer": "ipython3",
   "version": "3.11.5"
  },
  "orig_nbformat": 4
 },
 "nbformat": 4,
 "nbformat_minor": 2
}
